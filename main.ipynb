{
 "cells": [
  {
   "cell_type": "code",
   "execution_count": 2,
   "metadata": {},
   "outputs": [
    {
     "name": "stdout",
     "output_type": "stream",
     "text": [
      "[youtube] Extracting URL: https://www.youtube.com/watch?v=fubjNyC9YkM\n",
      "[youtube] fubjNyC9YkM: Downloading webpage\n",
      "[youtube] fubjNyC9YkM: Downloading tv player API JSON\n",
      "[youtube] fubjNyC9YkM: Downloading ios player API JSON\n",
      "[youtube] fubjNyC9YkM: Downloading m3u8 information\n",
      "[info] Testing format 616\n",
      "[info] fubjNyC9YkM: Downloading 1 format(s): 616+251\n",
      "[hlsnative] Downloading m3u8 manifest\n",
      "[hlsnative] Total fragments: 191\n",
      "[download] Destination: downloads/Watch President Biden's farewell address from the Oval Office.f616.mp4\n",
      "[download] 100% of  172.65MiB in 00:01:25 at 2.02MiB/s                   \n",
      "[download] Destination: downloads/Watch President Biden's farewell address from the Oval Office.f251.webm\n",
      "[download] 100% of   11.95MiB in 00:00:02 at 4.50MiB/s   \n",
      "[Merger] Merging formats into \"downloads/Watch President Biden's farewell address from the Oval Office.webm\"\n",
      "Deleting original file downloads/Watch President Biden's farewell address from the Oval Office.f251.webm (pass -k to keep)\n",
      "Deleting original file downloads/Watch President Biden's farewell address from the Oval Office.f616.mp4 (pass -k to keep)\n",
      "[VideoConvertor] Converting video from webm to mp4; Destination: downloads/Watch President Biden's farewell address from the Oval Office.mp4\n",
      "Deleting original file downloads/Watch President Biden's farewell address from the Oval Office.webm (pass -k to keep)\n",
      "[ExtractAudio] Destination: downloads/Watch President Biden's farewell address from the Oval Office.mp3\n",
      "Deleting original file downloads/Watch President Biden's farewell address from the Oval Office.mp4 (pass -k to keep)\n",
      "Video and audio saved in downloads\n"
     ]
    }
   ],
   "source": [
    "import yt_dlp\n",
    "import os\n",
    "\n",
    "def download_video_and_audio(youtube_url, output_folder=\"downloads\"):\n",
    "    try:\n",
    "        # Create output folder if it doesn't exist\n",
    "        if not os.path.exists(output_folder):\n",
    "            os.makedirs(output_folder)\n",
    "\n",
    "        # Define output template for video and audio\n",
    "        video_path_template = os.path.join(output_folder, \"%(title)s.%(ext)s\")\n",
    "\n",
    "        # Download video and audio\n",
    "        ydl_opts = {\n",
    "            \"format\": \"bestvideo+bestaudio/best\",\n",
    "            \"outtmpl\": video_path_template,\n",
    "            \"postprocessors\": [\n",
    "                {\n",
    "                    \"key\": \"FFmpegVideoConvertor\",\n",
    "                    \"preferedformat\": \"mp4\",\n",
    "                },\n",
    "                {\n",
    "                    \"key\": \"FFmpegExtractAudio\",\n",
    "                    \"preferredcodec\": \"mp3\",\n",
    "                    \"preferredquality\": \"192\",\n",
    "                },\n",
    "            ],\n",
    "        }\n",
    "\n",
    "        with yt_dlp.YoutubeDL(ydl_opts) as ydl:\n",
    "            ydl.download([youtube_url])\n",
    "\n",
    "        print(f\"Video and audio saved in {output_folder}\")\n",
    "\n",
    "    except Exception as e:\n",
    "        print(f\"An error occurred: {e}\")\n",
    "\n",
    "# Example usage\n",
    "youtube_link = \"https://www.youtube.com/watch?v=fubjNyC9YkM\"\n",
    "download_video_and_audio(youtube_link)\n"
   ]
  },
  {
   "cell_type": "code",
   "execution_count": 6,
   "metadata": {},
   "outputs": [
    {
     "ename": "OpenAIError",
     "evalue": "The api_key client option must be set either by passing api_key to the client or by setting the OPENAI_API_KEY environment variable",
     "output_type": "error",
     "traceback": [
      "\u001b[0;31m---------------------------------------------------------------------------\u001b[0m",
      "\u001b[0;31mOpenAIError\u001b[0m                               Traceback (most recent call last)",
      "Cell \u001b[0;32mIn[6], line 2\u001b[0m\n\u001b[1;32m      1\u001b[0m \u001b[38;5;28;01mfrom\u001b[39;00m\u001b[38;5;250m \u001b[39m\u001b[38;5;21;01mopenai\u001b[39;00m\u001b[38;5;250m \u001b[39m\u001b[38;5;28;01mimport\u001b[39;00m OpenAI\n\u001b[0;32m----> 2\u001b[0m client \u001b[38;5;241m=\u001b[39m \u001b[43mOpenAI\u001b[49m\u001b[43m(\u001b[49m\u001b[43m)\u001b[49m\n\u001b[1;32m      4\u001b[0m audio_path \u001b[38;5;241m=\u001b[39m \u001b[38;5;124m\"\u001b[39m\u001b[38;5;124mdownloads/Watch President Biden\u001b[39m\u001b[38;5;124m'\u001b[39m\u001b[38;5;124ms farewell address from the Oval Office.mp3\u001b[39m\u001b[38;5;124m\"\u001b[39m\n\u001b[1;32m      5\u001b[0m audio_file \u001b[38;5;241m=\u001b[39m \u001b[38;5;28mopen\u001b[39m(audio_path, \u001b[38;5;124m\"\u001b[39m\u001b[38;5;124mrb\u001b[39m\u001b[38;5;124m\"\u001b[39m)\n",
      "File \u001b[0;32m~/Dev/deepface_and_voice/teste/cloning-face-voice/.venv/lib/python3.12/site-packages/openai/_client.py:110\u001b[0m, in \u001b[0;36mOpenAI.__init__\u001b[0;34m(self, api_key, organization, project, base_url, websocket_base_url, timeout, max_retries, default_headers, default_query, http_client, _strict_response_validation)\u001b[0m\n\u001b[1;32m    108\u001b[0m     api_key \u001b[38;5;241m=\u001b[39m os\u001b[38;5;241m.\u001b[39menviron\u001b[38;5;241m.\u001b[39mget(\u001b[38;5;124m\"\u001b[39m\u001b[38;5;124mOPENAI_API_KEY\u001b[39m\u001b[38;5;124m\"\u001b[39m)\n\u001b[1;32m    109\u001b[0m \u001b[38;5;28;01mif\u001b[39;00m api_key \u001b[38;5;129;01mis\u001b[39;00m \u001b[38;5;28;01mNone\u001b[39;00m:\n\u001b[0;32m--> 110\u001b[0m     \u001b[38;5;28;01mraise\u001b[39;00m OpenAIError(\n\u001b[1;32m    111\u001b[0m         \u001b[38;5;124m\"\u001b[39m\u001b[38;5;124mThe api_key client option must be set either by passing api_key to the client or by setting the OPENAI_API_KEY environment variable\u001b[39m\u001b[38;5;124m\"\u001b[39m\n\u001b[1;32m    112\u001b[0m     )\n\u001b[1;32m    113\u001b[0m \u001b[38;5;28mself\u001b[39m\u001b[38;5;241m.\u001b[39mapi_key \u001b[38;5;241m=\u001b[39m api_key\n\u001b[1;32m    115\u001b[0m \u001b[38;5;28;01mif\u001b[39;00m organization \u001b[38;5;129;01mis\u001b[39;00m \u001b[38;5;28;01mNone\u001b[39;00m:\n",
      "\u001b[0;31mOpenAIError\u001b[0m: The api_key client option must be set either by passing api_key to the client or by setting the OPENAI_API_KEY environment variable"
     ]
    }
   ],
   "source": [
    "from openai import OpenAI\n",
    "client = OpenAI()\n",
    "\n",
    "audio_path = \"downloads/Watch President Biden's farewell address from the Oval Office.mp3\"\n",
    "audio_file = open(audio_path, \"rb\")\n",
    "transcription = client.audio.transcriptions.create(\n",
    "    model=\"whisper-1\", \n",
    "    file=audio_file, \n",
    "    response_format=\"text\"\n",
    ")\n",
    "\n",
    "print(transcription.text)"
   ]
  },
  {
   "cell_type": "code",
   "execution_count": 4,
   "metadata": {},
   "outputs": [
    {
     "ename": "ImportError",
     "evalue": "cannot import name 'load_model' from 'whisper' (/home/ornelas/Dev/deepface_and_voice/teste/cloning-face-voice/.venv/lib/python3.12/site-packages/whisper.py)",
     "output_type": "error",
     "traceback": [
      "\u001b[0;31m---------------------------------------------------------------------------\u001b[0m",
      "\u001b[0;31mImportError\u001b[0m                               Traceback (most recent call last)",
      "Cell \u001b[0;32mIn[4], line 1\u001b[0m\n\u001b[0;32m----> 1\u001b[0m \u001b[38;5;28;01mfrom\u001b[39;00m\u001b[38;5;250m \u001b[39m\u001b[38;5;21;01mwhisper\u001b[39;00m\u001b[38;5;250m \u001b[39m\u001b[38;5;28;01mimport\u001b[39;00m load_model\n\u001b[1;32m      2\u001b[0m \u001b[38;5;28;01mfrom\u001b[39;00m\u001b[38;5;250m \u001b[39m\u001b[38;5;21;01msynthesizer\u001b[39;00m\u001b[38;5;21;01m.\u001b[39;00m\u001b[38;5;21;01minference\u001b[39;00m\u001b[38;5;250m \u001b[39m\u001b[38;5;28;01mimport\u001b[39;00m Synthesizer\n\u001b[1;32m      3\u001b[0m \u001b[38;5;28;01mfrom\u001b[39;00m\u001b[38;5;250m \u001b[39m\u001b[38;5;21;01mvocoder\u001b[39;00m\u001b[38;5;250m \u001b[39m\u001b[38;5;28;01mimport\u001b[39;00m inference \u001b[38;5;28;01mas\u001b[39;00m vocoder\n",
      "\u001b[0;31mImportError\u001b[0m: cannot import name 'load_model' from 'whisper' (/home/ornelas/Dev/deepface_and_voice/teste/cloning-face-voice/.venv/lib/python3.12/site-packages/whisper.py)"
     ]
    }
   ],
   "source": [
    "from whisper import load_model\n",
    "from synthesizer.inference import Synthesizer\n",
    "from vocoder import inference as vocoder\n",
    "from encoder import inference as encoder\n",
    "from pathlib import Path\n",
    "\n",
    "def transcribe_audio(audio_path):\n",
    "    \"\"\"\n",
    "    Transcreve um áudio usando o modelo Whisper.\n",
    "    \"\"\"\n",
    "    model = load_model(\"base\")  # Carrega o modelo Whisper\n",
    "    result = model.transcribe(audio_path)\n",
    "    return result[\"text\"]\n",
    "\n",
    "# def clone_voice_and_synthesize(text, audio_path):\n",
    "#     \"\"\"\n",
    "#     Realiza a clonagem da voz a partir de um áudio e sintetiza fala a partir de texto.\n",
    "#     \"\"\"\n",
    "#     # Carrega os modelos necessários\n",
    "#     encoder.load_model(\"encoder/saved_models/pretrained.pt\")\n",
    "#     synthesizer = Synthesizer(\"synthesizer/saved_models/pretrained/pretrained.pt\")\n",
    "#     vocoder.load_model(\"vocoder/saved_models/pretrained/pretrained.pt\")\n",
    "\n",
    "#     # Processa o áudio para extrair a voz\n",
    "#     voice_embedding = encoder.embed_utterance(encoder.preprocess_wav(Path(audio_path)))\n",
    "\n",
    "#     # Sintetiza uma nova fala usando o texto e a voz clonada\n",
    "#     specs = synthesizer.synthesize_spectrograms([text], [voice_embedding])\n",
    "#     generated_audio = vocoder.infer_waveform(specs[0])\n",
    "\n",
    "#     # Salva o áudio gerado\n",
    "#     output_path = \"output/cloned_voice.wav\"\n",
    "#     from scipy.io.wavfile import write\n",
    "#     write(output_path, 22050, generated_audio)\n",
    "#     print(f\"Cloned audio saved to {output_path}\")\n",
    "\n",
    "if __name__ == \"__main__\":\n",
    "    # Substitua este caminho pelo arquivo de áudio já baixado\n",
    "    audio_path = \"downloads/Watch President Biden's farewell address from the Oval Office.mp3\"\n",
    "\n",
    "    # Transcreve o áudio\n",
    "    transcribed_text = transcribe_audio(audio_path)\n",
    "    print(f\"Transcribed text: {transcribed_text}\")\n",
    "\n",
    "    # Clona a voz e sintetiza o áudio\n",
    "    # clone_voice_and_synthesize(transcribed_text, audio_path)\n"
   ]
  },
  {
   "cell_type": "code",
   "execution_count": null,
   "metadata": {},
   "outputs": [],
   "source": []
  }
 ],
 "metadata": {
  "kernelspec": {
   "display_name": ".venv",
   "language": "python",
   "name": "python3"
  },
  "language_info": {
   "codemirror_mode": {
    "name": "ipython",
    "version": 3
   },
   "file_extension": ".py",
   "mimetype": "text/x-python",
   "name": "python",
   "nbconvert_exporter": "python",
   "pygments_lexer": "ipython3",
   "version": "3.12.8"
  }
 },
 "nbformat": 4,
 "nbformat_minor": 2
}
